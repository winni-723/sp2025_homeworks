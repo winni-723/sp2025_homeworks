{
 "cells": [
  {
   "cell_type": "code",
   "execution_count": 9,
   "metadata": {
    "deletable": false,
    "editable": false
   },
   "outputs": [],
   "source": [
    "# Initialize Otter\n",
    "import otter\n",
    "grader = otter.Notebook(\"hw4_backpropagation.ipynb\")"
   ]
  },
  {
   "cell_type": "markdown",
   "metadata": {
    "id": "L6chybAVFJW2"
   },
   "source": [
    "# **Notebook 4: Backpropagation**\n",
    "\n",
    "In this notebook we will implement a fully connected neural network manually and\n",
    "then complete forward and backward pass functions. We'll then put it all together\n",
    "in a training loop.\n",
    "\n",
    "We'll follow the steps in section 7.4 of the book.\n",
    "\n",
    "Work through the cells below, running each cell in turn. In various places you will see the words \"TO DO\" or incomplete\n",
    "lines that end with `...`. Follow the instructions at these places and make predictions about what is going to happen or write code to complete the functions."
   ]
  },
  {
   "cell_type": "markdown",
   "metadata": {},
   "source": [
    "### Completing the notebook on Colab\n",
    "\n",
    "To complete the notebook on Colab, you can click on the \"Open in Colab\" button\n",
    "below and it will open the notebook from our public class notebook repository\n",
    "on GitHub.\n",
    "\n",
    "> Note that you will have save the notebook to your own Google Drive by clicking\n",
    "on File -> Save a Copy in Drive.\n",
    "\n",
    "> Also note that the Otter Grader cells will not run in Colab, but you can just\n",
    "> avoid executing those cells. For any public tests, you can submit to Gradescope\n",
    "> and inspect your results there.\n",
    "\n",
    "<a href=\"https://colab.research.google.com/github/DL4DS/sp2025_homeworks/blob/main/hw4/hw4_backpropagation.ipynb\" target=\"_parent\"><img src=\"https://colab.research.google.com/assets/colab-badge.svg\" alt=\"Open In Colab\"/></a>\n"
   ]
  },
  {
   "cell_type": "markdown",
   "metadata": {
    "deletable": false,
    "editable": false
   },
   "source": [
    "<!-- BEGIN QUESTION -->\n",
    "\n",
    "## Statement of AI Use and Correction Reflection (if applicable)\n",
    "\n",
    "You may use ChatGPT/Generative AI as a resource to help you complete the assignment. \n",
    "However, it must be used constructively to help you understand things you are \n",
    "unsure of, and be built upon with original code. \n",
    "\n",
    "You must cite your interaction \n",
    "by describing your prompt and the corresponding response. \n",
    "In addition, you must  explain all code from the AI that you implement in your \n",
    "assignment with inline comments. \n",
    "Touch upon how the code works and how it helped you. Failure to do \n",
    "so could result in credit deduction. \n",
    "\n",
    "The official GAIA Policy can be found here: https://www.bu.edu/cds-faculty/culture-community/gaia-policy/ \n",
    "\n",
    "Moreover, if this is a correction submission after the initial submission, \n",
    "you must provide a reflection on what you learned from the initial submission \n",
    "and how you corrected it."
   ]
  },
  {
   "cell_type": "markdown",
   "metadata": {},
   "source": [
    "Q: what's the reason or potential issue that makes loss decrease sharply? \n",
    "AI: This sharp decrease in the initial phase is likely due to a high learning rate or well-initialized model parameters that allow the optimizer to make rapid progress early on.\n",
    "\n",
    "Q: What's the possibles reason that PyTorch implementation exhibits a very sharp decrease?\n",
    "A: PyTorch likely uses a more advanced optimizer (e.g., Adam, RMSprop) that adapts the learning rate dynamically.\n",
    "The manual implementation might be using a simpler method like standard gradient descent, which can require more iterations to converge.\n"
   ]
  },
  {
   "cell_type": "markdown",
   "metadata": {
    "deletable": false,
    "editable": false
   },
   "source": [
    "<!-- END QUESTION -->\n",
    "\n"
   ]
  },
  {
   "cell_type": "code",
   "execution_count": 10,
   "metadata": {
    "id": "LdIDglk1FFcG"
   },
   "outputs": [],
   "source": [
    "import numpy as np\n",
    "import matplotlib.pyplot as plt"
   ]
  },
  {
   "cell_type": "markdown",
   "metadata": {},
   "source": [
    "## Define a simple network\n",
    "\n",
    "Define the number of hidden layers, neurons per layer, input layer, and output layer."
   ]
  },
  {
   "cell_type": "code",
   "execution_count": 11,
   "metadata": {
    "id": "WVM4Tc_jGI0Q"
   },
   "outputs": [],
   "source": [
    "# Number of hidden layers\n",
    "K = 5\n",
    "\n",
    "# Number of neurons per layer\n",
    "D = 6\n",
    "\n",
    "# Input layer\n",
    "D_i = 1\n",
    "\n",
    "# Output layer\n",
    "D_o = 1"
   ]
  },
  {
   "cell_type": "markdown",
   "metadata": {
    "id": "nnUoI0m6GyjC"
   },
   "source": [
    "Create all the weight matrices and bias vectors for the dimensions we defined,\n",
    "initialized with random (normally distributed) numbers."
   ]
  },
  {
   "cell_type": "code",
   "execution_count": 12,
   "metadata": {},
   "outputs": [],
   "source": [
    "# Set seed so we always get the same random numbers\n",
    "np.random.seed(0)\n",
    "\n",
    "#   Create a network with K hidden layers, D neurons per layer, D_i input neurons,\n",
    "#  and D_o output neurons. Normalize the weights and biases to be standard normal.\n",
    "def create_network(K, D, D_i, D_o):\n",
    "  # Make empty lists\n",
    "  all_weights = [None] * (K+1)\n",
    "  all_biases = [None] * (K+1)\n",
    "\n",
    "  # Create input and output layers\n",
    "  all_weights[0] = np.random.normal(size=(D, D_i))\n",
    "  all_weights[-1] = np.random.normal(size=(D_o, D))\n",
    "  all_biases[0] = np.random.normal(size =(D,1))\n",
    "  all_biases[-1]= np.random.normal(size =(D_o,1))\n",
    "\n",
    "  # Create intermediate layers\n",
    "  for layer in range(1,K):\n",
    "    all_weights[layer] = np.random.normal(size=(D,D))\n",
    "    all_biases[layer] = np.random.normal(size=(D,1))\n",
    "\n",
    "  return all_weights, all_biases\n",
    "\n",
    "all_weights, all_biases = create_network(K, D, D_i, D_o)\n"
   ]
  },
  {
   "cell_type": "markdown",
   "metadata": {},
   "source": [
    "We can print out the shapes of the weights and biases for each layer."
   ]
  },
  {
   "cell_type": "code",
   "execution_count": 13,
   "metadata": {},
   "outputs": [
    {
     "name": "stdout",
     "output_type": "stream",
     "text": [
      "Layer shapes:\n",
      "Layer 0: weights shape = (6, 1), biases shape = (6, 1)\n",
      "Layer 1: weights shape = (6, 6), biases shape = (6, 1)\n",
      "Layer 2: weights shape = (6, 6), biases shape = (6, 1)\n",
      "Layer 3: weights shape = (6, 6), biases shape = (6, 1)\n",
      "Layer 4: weights shape = (6, 6), biases shape = (6, 1)\n",
      "Layer 5: weights shape = (1, 6), biases shape = (1, 1)\n"
     ]
    }
   ],
   "source": [
    "print(\"Layer shapes:\")\n",
    "for i, (weights, biases) in enumerate(zip(all_weights, all_biases)):\n",
    "    print(f\"Layer {i}: weights shape = {weights.shape}, biases shape = {biases.shape}\")\n"
   ]
  },
  {
   "cell_type": "code",
   "execution_count": 14,
   "metadata": {
    "id": "jZh-7bPXIDq4"
   },
   "outputs": [],
   "source": [
    "# Define the Rectified Linear Unit (ReLU) function\n",
    "def ReLU(preactivation: np.ndarray) -> np.ndarray:\n",
    "  activation = preactivation.clip(0.0)\n",
    "  return activation"
   ]
  },
  {
   "cell_type": "markdown",
   "metadata": {
    "id": "5irtyxnLJSGX"
   },
   "source": [
    "Now let's complete the forward pass function for our random network and run it.\n",
    "\n",
    "The weight matrices $\\boldsymbol\\Omega_{0\\ldots K}$ are the entries of the list \"all_weights\" and the biases $\\boldsymbol\\beta_{0\\ldots K}$ are the entries of the list \"all_biases\"\n",
    "\n",
    "We know that we will need the preactivations $\\mathbf{f}_{0\\ldots K}$ and the activations $\\mathbf{h}_{1\\ldots K}$ for the forward pass of backpropagation, so we'll store and return these as well.\n"
   ]
  },
  {
   "cell_type": "markdown",
   "metadata": {},
   "source": [
    "### 4.1 Complete the code below to implement the forward pass"
   ]
  },
  {
   "cell_type": "code",
   "execution_count": 15,
   "metadata": {
    "id": "LgquJUJvJPaN",
    "tags": []
   },
   "outputs": [],
   "source": [
    "# Compute the forward pass of the network.\n",
    "# The input, net_input, is a matrix of shape (D_i, N) where N is the number of samples,\n",
    "# which means that when N>1, we'll get N output samples from the network as well.\n",
    "# We also return the preactivations and activations at each layer as lists of matrices.\n",
    "# We also return the preactivations and activations at each layer as lists of matrices.\n",
    "def forward_pass(net_input, all_weights, all_biases):\n",
    "\n",
    "  # Retrieve number of layers\n",
    "  K = len(all_weights) -1\n",
    "\n",
    "  # We'll store the pre-activations at each layer in a list \"all_f\"\n",
    "  # and the activations in a second list \"all_h\".\n",
    "  all_f = [None] * (K+1)\n",
    "  all_h = [None] * (K+1)\n",
    "\n",
    "  #For convenience, we'll set\n",
    "  # all_h[0] to be the input, and all_f[K] will be the output\n",
    "  all_h[0] = net_input\n",
    "\n",
    "  # Run through the layers, calculating all_f[0...K-1] and all_h[1...K]\n",
    "  for layer in range(K):\n",
    "      # Update preactivations and activations at this layer according to eqn 7.17\n",
    "      # Remember to use np.matmul for matrix multiplications\n",
    "      # TODO -- Complete the lines below\n",
    "      all_f[layer] = np.matmul(all_weights[layer], all_h[layer]) + all_biases[layer]\n",
    "      all_h[layer+1] = ReLU(all_f[layer])\n",
    "\n",
    "  # Compute the output from the last hidden layer\n",
    "  # TODO -- Complete the line below\n",
    "  all_f[K] = np.matmul(all_weights[K], all_h[K]) + all_biases[K]\n",
    "\n",
    "  # Retrieve the output\n",
    "  net_output = all_f[K]\n",
    "\n",
    "  return net_output, all_f, all_h"
   ]
  },
  {
   "cell_type": "code",
   "execution_count": 16,
   "metadata": {
    "tags": []
   },
   "outputs": [],
   "source": [
    "# Define input\n",
    "net_input = np.ones((D_i,1)) * 1.2\n",
    "\n",
    "# Compute network output\n",
    "net_output, all_f, all_h = forward_pass(net_input,all_weights, all_biases)\n"
   ]
  },
  {
   "cell_type": "code",
   "execution_count": 36,
   "metadata": {
    "tags": []
   },
   "outputs": [
    {
     "name": "stdout",
     "output_type": "stream",
     "text": [
      "Preactivation and activation shapes:\n",
      "h_0 shape = (3, 4)\n",
      "\n",
      "f_0 shape = (6, 4) \n",
      "h_1 shape = (6, 4)\n",
      "\n",
      "f_1 shape = (6, 4) \n",
      "h_2 shape = (6, 4)\n",
      "\n",
      "f_2 shape = (6, 4) \n",
      "h_3 shape = (6, 4)\n",
      "\n",
      "f_3 shape = (6, 4) \n",
      "h_4 shape = (6, 4)\n",
      "\n",
      "f_4 shape = (6, 4) \n",
      "h_5 shape = (6, 4)\n",
      "\n",
      "f_5 shape = (1, 4) \n"
     ]
    }
   ],
   "source": [
    "print(\"Preactivation and activation shapes:\")\n",
    "\n",
    "def print_activations(all_f, all_h):\n",
    "    for i, (f, h) in enumerate(zip(all_f, all_h)):\n",
    "        if i == 0:\n",
    "            print(f\"h_0 shape = {h.shape}\\n\")\n",
    "            print(f\"f_0 shape = {f.shape}\", end=\" \")\n",
    "        else:\n",
    "            print(f\"h_{i} shape = {h.shape}\\n\")\n",
    "            print(f\"f_{i} shape = {f.shape}\", end=\" \")\n",
    "        print()\n",
    "\n",
    "print_activations(all_f, all_h)\n"
   ]
  },
  {
   "cell_type": "code",
   "execution_count": 18,
   "metadata": {
    "tags": []
   },
   "outputs": [],
   "source": [
    "# Define input\n",
    "net_input = np.ones((D_i,1)) * 1.2\n",
    "\n",
    "# Compute network output\n",
    "net_output, all_f, all_h = forward_pass(net_input,all_weights, all_biases)"
   ]
  },
  {
   "cell_type": "code",
   "execution_count": 19,
   "metadata": {
    "deletable": false,
    "editable": false
   },
   "outputs": [
    {
     "data": {
      "text/html": [
       "<p><strong><pre style='display: inline;'>q1</pre></strong> passed! ✨</p>"
      ],
      "text/plain": [
       "q1 results: All test cases passed!"
      ]
     },
     "execution_count": 19,
     "metadata": {},
     "output_type": "execute_result"
    }
   ],
   "source": [
    "grader.check(\"q1\")"
   ]
  },
  {
   "cell_type": "markdown",
   "metadata": {
    "id": "SxVTKp3IcoBF"
   },
   "source": [
    "Now let's define a loss function.  We'll just use the least squares loss function. We'll also write a function to compute \n",
    "$\\partial l / \\partial \\mathbf{f}_K$, e.g. the derivative of the loss with respect to the output of the network."
   ]
  },
  {
   "cell_type": "code",
   "execution_count": 20,
   "metadata": {},
   "outputs": [
    {
     "name": "stdout",
     "output_type": "stream",
     "text": [
      "net_input.shape (1, 1)\n",
      "net_output [[1.906605]]\n"
     ]
    }
   ],
   "source": [
    "# Initalize the network again\n",
    "\n",
    "# Set seed so we always get the same random numbers\n",
    "np.random.seed(0)\n",
    "\n",
    "# Define network dimensions back to 1-D input\n",
    "K = 5; D = 6; D_i = 1; D_o = 1\n",
    "\n",
    "# Create and initialize the network\n",
    "all_weights, all_biases = create_network(K, D, D_i, D_o)\n",
    "\n",
    "# Define input\n",
    "net_input = np.ones((D_i,1)) * 1.2\n",
    "print(\"net_input.shape\", net_input.shape)\n",
    "\n",
    "# Compute the forward pass\n",
    "net_output, all_f, all_h = forward_pass(net_input,all_weights, all_biases)\n",
    "print(\"net_output\", net_output)\n"
   ]
  },
  {
   "cell_type": "code",
   "execution_count": 23,
   "metadata": {
    "id": "6XqWSYWJdhQR"
   },
   "outputs": [],
   "source": [
    "def least_squares_loss(net_output: np.ndarray, y: np.ndarray) -> float:\n",
    "  return np.sum((net_output-y) * (net_output-y))\n",
    "\n",
    "def d_loss_d_output(net_output, y):\n",
    "    return 2*(net_output - y);"
   ]
  },
  {
   "cell_type": "code",
   "execution_count": 24,
   "metadata": {
    "id": "njF2DUQmfttR"
   },
   "outputs": [
    {
     "name": "stdout",
     "output_type": "stream",
     "text": [
      "y = [[20.]] Loss = 327.371\n"
     ]
    }
   ],
   "source": [
    "y = np.ones((D_o,1)) * 20.0\n",
    "loss = least_squares_loss(net_output, y)\n",
    "print(f\"y = {y} Loss = {loss:.3f}\")"
   ]
  },
  {
   "cell_type": "markdown",
   "metadata": {
    "id": "98WmyqFYWA-0"
   },
   "source": [
    "Now let's compute the derivatives of the network.  We already computed the forward pass.  Let's compute the backward pass."
   ]
  },
  {
   "cell_type": "markdown",
   "metadata": {},
   "source": [
    "### 4.2 Complete the code below to implement the backward pass"
   ]
  },
  {
   "cell_type": "code",
   "execution_count": 25,
   "metadata": {
    "id": "LJng7WpRPLMz",
    "tags": []
   },
   "outputs": [],
   "source": [
    "# We'll need the indicator function\n",
    "def indicator_function(x):\n",
    "  x_in = np.array(x)\n",
    "  x_in[x_in>0] = 1\n",
    "  x_in[x_in<=0] = 0\n",
    "  return x_in\n",
    "\n",
    "# Main backward pass routine\n",
    "def backward_pass(all_weights, all_biases, all_f, all_h, y):\n",
    "\n",
    "  # Retrieve number of layers\n",
    "  K = len(all_weights) -1\n",
    "\n",
    "  # We'll store the derivatives dl_dweights and dl_dbiases in lists as well\n",
    "  all_dl_dweights = [None] * (K+1)\n",
    "  all_dl_dbiases = [None] * (K+1)\n",
    "  \n",
    "  # And we'll store the derivatives of the loss with respect to the activation and preactivations in lists\n",
    "  all_dl_df = [None] * (K+1)\n",
    "  all_dl_dh = [None] * (K+1)\n",
    "  \n",
    "  # Again for convenience we'll stick with the convention that all_h[0] is the net input and all_f[k] in the net output\n",
    "\n",
    "  # Compute derivatives of the loss with respect to the network output\n",
    "  all_dl_df[K] = np.array(d_loss_d_output(all_f[K],y))\n",
    "\n",
    "  # Now work backwards through the network, Follow from equations 7.22 onwards\n",
    "  for layer in range(K,-1,-1):\n",
    "\n",
    "    # TODO Calculate the derivatives of the loss with respect to the biases at layer from all_dl_df[layer]. (eq 7.22)\n",
    "    # NOTE!  To take a copy of matrix X, use Z=np.array(X)\n",
    "    # COMPLETE THIS LINE\n",
    "    all_dl_dbiases[layer] = np.array(all_dl_df[layer])\n",
    "\n",
    "    # TODO Calculate the derivatives of the loss with respect to the weights at layer from all_dl_df[layer] and \n",
    "    # all_h[layer] (eq 7.23)\n",
    "    # Don't forget to use np.matmul\n",
    "    # COMPLETE THIS LINE\n",
    "    all_dl_dweights[layer] = np.matmul(all_dl_df[layer], all_h[layer].T)\n",
    "\n",
    "    # TODO: calculate the derivatives of the loss with respect to the activations from weight and derivatives of next\n",
    "    # preactivations (second part of last line of eq 7.25)\n",
    "    # COMPLETE THIS LINE\n",
    "    all_dl_dh[layer] = np.matmul(all_weights[layer].T, all_dl_df[layer])\n",
    "\n",
    "\n",
    "    if layer > 0:\n",
    "      # TODO Calculate the derivatives of the loss with respect to the pre-activation f (use derivative of ReLu function,\n",
    "      # first part of last line of eq. 7.25)\n",
    "      # COMPLETE THIS LINE\n",
    "      all_dl_df[layer-1] = all_dl_dh[layer] * indicator_function(all_f[layer - 1])\n",
    "\n",
    "  return all_dl_dweights, all_dl_dbiases"
   ]
  },
  {
   "cell_type": "code",
   "execution_count": 26,
   "metadata": {
    "id": "9A9MHc4sQvbp",
    "tags": []
   },
   "outputs": [],
   "source": [
    "all_dl_dweights, all_dl_dbiases = backward_pass(all_weights, all_biases, all_f, all_h, y)"
   ]
  },
  {
   "cell_type": "code",
   "execution_count": 27,
   "metadata": {
    "id": "PK-UtE3hreAK",
    "tags": []
   },
   "outputs": [
    {
     "name": "stdout",
     "output_type": "stream",
     "text": [
      "-----------------------------------------------\n",
      "Bias 0, derivatives from backprop:\n",
      "[[ -4.486]\n",
      " [  4.947]\n",
      " [  6.812]\n",
      " [ -3.883]\n",
      " [-24.935]\n",
      " [  0.   ]]\n",
      "Bias 0, derivatives from finite differences\n",
      "[[ -4.486]\n",
      " [  4.947]\n",
      " [  6.812]\n",
      " [ -3.883]\n",
      " [-24.935]\n",
      " [  0.   ]]\n",
      "Success!  Derivatives match.\n",
      "-----------------------------------------------\n",
      "Bias 1, derivatives from backprop:\n",
      "[[ -0.   ]\n",
      " [-11.297]\n",
      " [  0.   ]\n",
      " [  0.   ]\n",
      " [-10.722]\n",
      " [  0.   ]]\n",
      "Bias 1, derivatives from finite differences\n",
      "[[  0.   ]\n",
      " [-11.297]\n",
      " [  0.   ]\n",
      " [  0.   ]\n",
      " [-10.722]\n",
      " [  0.   ]]\n",
      "Success!  Derivatives match.\n",
      "-----------------------------------------------\n",
      "Bias 2, derivatives from backprop:\n",
      "[[-0.   ]\n",
      " [-0.   ]\n",
      " [ 0.938]\n",
      " [ 0.   ]\n",
      " [-9.993]\n",
      " [ 0.508]]\n",
      "Bias 2, derivatives from finite differences\n",
      "[[ 0.   ]\n",
      " [ 0.   ]\n",
      " [ 0.938]\n",
      " [ 0.   ]\n",
      " [-9.993]\n",
      " [ 0.508]]\n",
      "Success!  Derivatives match.\n",
      "-----------------------------------------------\n",
      "Bias 3, derivatives from backprop:\n",
      "[[-0.   ]\n",
      " [-4.8  ]\n",
      " [-1.661]\n",
      " [-0.   ]\n",
      " [ 3.393]\n",
      " [ 5.391]]\n",
      "Bias 3, derivatives from finite differences\n",
      "[[ 0.   ]\n",
      " [-4.8  ]\n",
      " [-1.661]\n",
      " [ 0.   ]\n",
      " [ 3.393]\n",
      " [ 5.391]]\n",
      "Success!  Derivatives match.\n",
      "-----------------------------------------------\n",
      "Bias 4, derivatives from backprop:\n",
      "[[-0.   ]\n",
      " [ 0.   ]\n",
      " [ 0.   ]\n",
      " [-0.   ]\n",
      " [-5.212]\n",
      " [-0.   ]]\n",
      "Bias 4, derivatives from finite differences\n",
      "[[ 0.   ]\n",
      " [ 0.   ]\n",
      " [ 0.   ]\n",
      " [ 0.   ]\n",
      " [-5.212]\n",
      " [ 0.   ]]\n",
      "Success!  Derivatives match.\n",
      "-----------------------------------------------\n",
      "Bias 5, derivatives from backprop:\n",
      "[[-36.187]]\n",
      "Bias 5, derivatives from finite differences\n",
      "[[-36.187]]\n",
      "Success!  Derivatives match.\n",
      "-----------------------------------------------\n",
      "Weight 0, derivatives from backprop:\n",
      "[[ -5.383]\n",
      " [  5.937]\n",
      " [  8.174]\n",
      " [ -4.66 ]\n",
      " [-29.922]\n",
      " [  0.   ]]\n",
      "Weight 0, derivatives from finite differences\n",
      "[[ -5.383]\n",
      " [  5.937]\n",
      " [  8.174]\n",
      " [ -4.66 ]\n",
      " [-29.922]\n",
      " [  0.   ]]\n",
      "Success!  Derivatives match.\n",
      "-----------------------------------------------\n",
      "Weight 1, derivatives from backprop:\n",
      "[[  0.      0.      0.      0.      0.      0.   ]\n",
      " [-32.511  -6.799 -18.282 -34.148 -42.196   0.   ]\n",
      " [  0.      0.      0.      0.      0.      0.   ]\n",
      " [  0.      0.      0.      0.      0.      0.   ]\n",
      " [-30.856  -6.453 -17.352 -32.409 -40.047   0.   ]\n",
      " [  0.      0.      0.      0.      0.      0.   ]]\n",
      "Weight 1, derivatives from finite differences\n",
      "[[  0.      0.      0.      0.      0.      0.   ]\n",
      " [-32.511  -6.799 -18.282 -34.148 -42.196   0.   ]\n",
      " [  0.      0.      0.      0.      0.      0.   ]\n",
      " [  0.      0.      0.      0.      0.      0.   ]\n",
      " [-30.856  -6.453 -17.352 -32.409 -40.047   0.   ]\n",
      " [  0.      0.      0.      0.      0.      0.   ]]\n",
      "Success!  Derivatives match.\n",
      "-----------------------------------------------\n",
      "Weight 2, derivatives from backprop:\n",
      "[[  0.      0.      0.      0.      0.      0.   ]\n",
      " [  0.      0.      0.      0.      0.      0.   ]\n",
      " [  0.      5.371   0.      0.      3.145   0.   ]\n",
      " [  0.      0.      0.      0.      0.      0.   ]\n",
      " [  0.    -57.233   0.      0.    -33.506   0.   ]\n",
      " [  0.      2.907   0.      0.      1.702   0.   ]]\n",
      "Weight 2, derivatives from finite differences\n",
      "[[  0.      0.      0.      0.      0.      0.   ]\n",
      " [  0.      0.      0.      0.      0.      0.   ]\n",
      " [  0.      5.371   0.      0.      3.145   0.   ]\n",
      " [  0.      0.      0.      0.      0.      0.   ]\n",
      " [  0.    -57.233   0.      0.    -33.506   0.   ]\n",
      " [  0.      2.907   0.      0.      1.702   0.   ]]\n",
      "Success!  Derivatives match.\n",
      "-----------------------------------------------\n",
      "Weight 3, derivatives from backprop:\n",
      "[[  0.      0.      0.      0.      0.      0.   ]\n",
      " [  0.      0.     -3.674   0.    -42.905 -10.998]\n",
      " [  0.      0.     -1.272   0.    -14.85   -3.807]\n",
      " [  0.      0.      0.      0.      0.      0.   ]\n",
      " [  0.      0.      2.597   0.     30.333   7.776]\n",
      " [  0.      0.      4.126   0.     48.188  12.353]]\n",
      "Weight 3, derivatives from finite differences\n",
      "[[  0.      0.      0.      0.      0.      0.   ]\n",
      " [  0.      0.     -3.674   0.    -42.905 -10.998]\n",
      " [  0.      0.     -1.272   0.    -14.85   -3.807]\n",
      " [  0.      0.      0.      0.      0.      0.   ]\n",
      " [  0.      0.      2.597   0.     30.333   7.776]\n",
      " [  0.      0.      4.126   0.     48.188  12.353]]\n",
      "Success!  Derivatives match.\n",
      "-----------------------------------------------\n",
      "Weight 4, derivatives from backprop:\n",
      "[[  0.      0.      0.      0.      0.      0.   ]\n",
      " [  0.      0.      0.      0.      0.      0.   ]\n",
      " [  0.      0.      0.      0.      0.      0.   ]\n",
      " [  0.      0.      0.      0.      0.      0.   ]\n",
      " [  0.    -81.635 -49.136   0.    -22.007 -10.146]\n",
      " [  0.      0.      0.      0.      0.      0.   ]]\n",
      "Weight 4, derivatives from finite differences\n",
      "[[  0.      0.      0.      0.      0.      0.   ]\n",
      " [  0.      0.      0.      0.      0.      0.   ]\n",
      " [  0.      0.      0.      0.      0.      0.   ]\n",
      " [  0.      0.      0.      0.      0.      0.   ]\n",
      " [  0.    -81.635 -49.136   0.    -22.007 -10.146]\n",
      " [  0.      0.      0.      0.      0.      0.   ]]\n",
      "Success!  Derivatives match.\n",
      "-----------------------------------------------\n",
      "Weight 5, derivatives from backprop:\n",
      "[[   0.      0.      0.      0.   -400.33    0.  ]]\n",
      "Weight 5, derivatives from finite differences\n",
      "[[   0.      0.      0.      0.   -400.33    0.  ]]\n",
      "Success!  Derivatives match.\n"
     ]
    }
   ],
   "source": [
    "np.set_printoptions(precision=3)\n",
    "# Make space for derivatives computed by finite differences\n",
    "all_dl_dweights_fd = [None] * (K+1)\n",
    "all_dl_dbiases_fd = [None] * (K+1)\n",
    "\n",
    "# Let's test if we have the derivatives right using finite differences\n",
    "delta_fd = 0.000001\n",
    "\n",
    "# Test the dervatives of the bias vectors\n",
    "for layer in range(K+1):\n",
    "  dl_dbias  = np.zeros_like(all_dl_dbiases[layer])\n",
    "  # For every element in the bias\n",
    "  for row in range(all_biases[layer].shape[0]):\n",
    "    # Take copy of biases  We'll change one element each time\n",
    "    all_biases_copy = [np.array(x) for x in all_biases]\n",
    "    all_biases_copy[layer][row] += delta_fd\n",
    "    network_output_1, *_ = forward_pass(net_input, all_weights, all_biases_copy)\n",
    "    network_output_2, *_ = forward_pass(net_input, all_weights, all_biases)\n",
    "    dl_dbias[row] = (least_squares_loss(network_output_1, y) - least_squares_loss(network_output_2,y))/delta_fd\n",
    "  all_dl_dbiases_fd[layer] = np.array(dl_dbias)\n",
    "  print(\"-----------------------------------------------\")\n",
    "  print(\"Bias %d, derivatives from backprop:\"%(layer))\n",
    "  print(all_dl_dbiases[layer])\n",
    "  print(\"Bias %d, derivatives from finite differences\"%(layer))\n",
    "  print(all_dl_dbiases_fd[layer])\n",
    "  assert np.allclose(all_dl_dbiases_fd[layer],all_dl_dbiases[layer],rtol=1e-05, atol=1e-08, equal_nan=False), \"Derivatives do not match\"\n",
    "  if np.allclose(all_dl_dbiases_fd[layer],all_dl_dbiases[layer],rtol=1e-05, atol=1e-08, equal_nan=False):\n",
    "    print(\"Success!  Derivatives match.\")\n",
    "  else:\n",
    "    print(\"Failure!  Derivatives different.\")\n",
    "\n",
    "\n",
    "\n",
    "# Test the derivatives of the weights matrices\n",
    "for layer in range(K+1):\n",
    "  dl_dweight  = np.zeros_like(all_dl_dweights[layer])\n",
    "  # For every element in the bias\n",
    "  for row in range(all_weights[layer].shape[0]):\n",
    "    for col in range(all_weights[layer].shape[1]):\n",
    "      # Take copy of biases  We'll change one element each time\n",
    "      all_weights_copy = [np.array(x) for x in all_weights]\n",
    "      all_weights_copy[layer][row][col] += delta_fd\n",
    "      network_output_1, *_ = forward_pass(net_input, all_weights_copy, all_biases)\n",
    "      network_output_2, *_ = forward_pass(net_input, all_weights, all_biases)\n",
    "      dl_dweight[row][col] = (least_squares_loss(network_output_1, y) - least_squares_loss(network_output_2,y))/delta_fd\n",
    "  all_dl_dweights_fd[layer] = np.array(dl_dweight)\n",
    "  print(\"-----------------------------------------------\")\n",
    "  print(\"Weight %d, derivatives from backprop:\"%(layer))\n",
    "  print(all_dl_dweights[layer])\n",
    "  print(\"Weight %d, derivatives from finite differences\"%(layer))\n",
    "  print(all_dl_dweights_fd[layer])\n",
    "  assert np.allclose(all_dl_dweights_fd[layer],all_dl_dweights[layer],rtol=1e-05, atol=1e-08, equal_nan=False), \"Derivatives do not match\"\n",
    "  if np.allclose(all_dl_dweights_fd[layer],all_dl_dweights[layer],rtol=1e-05, atol=1e-08, equal_nan=False):\n",
    "    print(\"Success!  Derivatives match.\")\n",
    "  else:\n",
    "    print(\"Failure!  Derivatives different.\")"
   ]
  },
  {
   "cell_type": "code",
   "execution_count": 28,
   "metadata": {
    "deletable": false,
    "editable": false
   },
   "outputs": [
    {
     "data": {
      "text/html": [
       "<p><strong><pre style='display: inline;'>q2</pre></strong> passed! 🎉</p>"
      ],
      "text/plain": [
       "q2 results: All test cases passed!"
      ]
     },
     "execution_count": 28,
     "metadata": {},
     "output_type": "execute_result"
    }
   ],
   "source": [
    "grader.check(\"q2\")"
   ]
  },
  {
   "cell_type": "markdown",
   "metadata": {},
   "source": [
    "## Training the Network\n",
    "\n",
    "Now we have all the pieces we need to implement a training loop. We'll define\n",
    "a trivial data set of 4 samples, and then construct a training loop and run it."
   ]
  },
  {
   "cell_type": "markdown",
   "metadata": {},
   "source": [
    "### Create dataset\n",
    "\n",
    "Define our training set to be 4 samples, 3 dimensional input, and 1 dimensional output."
   ]
  },
  {
   "cell_type": "code",
   "execution_count": 37,
   "metadata": {},
   "outputs": [
    {
     "name": "stdout",
     "output_type": "stream",
     "text": [
      "net_input [[ 2.   3.   0.5  1. ]\n",
      " [ 3.  -1.   1.   1. ]\n",
      " [-1.   0.5  1.  -1. ]]\n",
      "net_input.shape (3, 4)\n",
      "y [1. 0. 0. 1.]\n",
      "y.shape (4,)\n"
     ]
    }
   ],
   "source": [
    "net_input = np.array([\n",
    "        [2.0, 3.0, -1.0],\n",
    "        [3.0, -1.0, 0.5],\n",
    "        [0.5, 1.0, 1.0],\n",
    "        [1.0, 1.0, -1.0]\n",
    "    ])\n",
    "net_input = net_input.T\n",
    "print(\"net_input\", net_input)\n",
    "print(\"net_input.shape\", net_input.shape)\n",
    "\n",
    "y = np.array([1.0, 0.0, 0.0, 1.0])\n",
    "print(\"y\", y)\n",
    "print(\"y.shape\", y.shape)\n"
   ]
  },
  {
   "cell_type": "markdown",
   "metadata": {},
   "source": [
    "### Define and initialize the network\n",
    "\n",
    "Define the dimensions of the network."
   ]
  },
  {
   "cell_type": "code",
   "execution_count": 38,
   "metadata": {},
   "outputs": [],
   "source": [
    "# Number of hidden layers\n",
    "K = 5\n",
    "# Number of neurons per layer\n",
    "D = 6\n",
    "# Input layer\n",
    "D_i = 3\n",
    "# Output layer\n",
    "D_o = 1\n"
   ]
  },
  {
   "cell_type": "markdown",
   "metadata": {},
   "source": [
    "Define and initialize the appropriate number of weights and biases for each layer.\n",
    "\n",
    "We randomly initialize each to a standard normal."
   ]
  },
  {
   "cell_type": "code",
   "execution_count": 39,
   "metadata": {},
   "outputs": [],
   "source": [
    "# Set seed so we always get the same random numbers\n",
    "np.random.seed(0)\n",
    "\n",
    "all_weights, all_biases = create_network(K, D, D_i, D_o)"
   ]
  },
  {
   "cell_type": "markdown",
   "metadata": {},
   "source": [
    "Print the shapes of the weights and biases for each layer."
   ]
  },
  {
   "cell_type": "code",
   "execution_count": 40,
   "metadata": {},
   "outputs": [
    {
     "name": "stdout",
     "output_type": "stream",
     "text": [
      "Layer shapes:\n",
      "Layer 0: weights shape = (6, 3), biases shape = (6, 1)\n",
      "Layer 1: weights shape = (6, 6), biases shape = (6, 1)\n",
      "Layer 2: weights shape = (6, 6), biases shape = (6, 1)\n",
      "Layer 3: weights shape = (6, 6), biases shape = (6, 1)\n",
      "Layer 4: weights shape = (6, 6), biases shape = (6, 1)\n",
      "Layer 5: weights shape = (1, 6), biases shape = (1, 1)\n"
     ]
    }
   ],
   "source": [
    "print(\"Layer shapes:\")\n",
    "for i, (weights, biases) in enumerate(zip(all_weights, all_biases)):\n",
    "    print(f\"Layer {i}: weights shape = {weights.shape}, biases shape = {biases.shape}\")"
   ]
  },
  {
   "cell_type": "markdown",
   "metadata": {},
   "source": [
    "### Training Loop\n"
   ]
  },
  {
   "cell_type": "markdown",
   "metadata": {},
   "source": [
    "We can calculate the forward pass. Because of the broadcasting rules of numpy, \n",
    "we can give all the inputs as one matrix and get the output for all the inputs at once."
   ]
  },
  {
   "cell_type": "code",
   "execution_count": 41,
   "metadata": {},
   "outputs": [
    {
     "name": "stdout",
     "output_type": "stream",
     "text": [
      "Iteration 1: Loss = 1209.745\n",
      "Iteration 2: Loss = 53.034\n",
      "Iteration 3: Loss = 0.829\n",
      "Iteration 4: Loss = 0.796\n",
      "Iteration 5: Loss = 0.765\n",
      "Iteration 6: Loss = 0.735\n",
      "Iteration 7: Loss = 0.705\n",
      "Iteration 8: Loss = 0.678\n",
      "Iteration 9: Loss = 0.651\n",
      "Iteration 10: Loss = 0.625\n",
      "Iteration 11: Loss = 0.600\n",
      "Iteration 12: Loss = 0.576\n",
      "Iteration 13: Loss = 0.554\n",
      "Iteration 14: Loss = 0.532\n",
      "Iteration 15: Loss = 0.511\n",
      "Iteration 16: Loss = 0.490\n",
      "Iteration 17: Loss = 0.471\n",
      "Iteration 18: Loss = 0.452\n",
      "Iteration 19: Loss = 0.434\n",
      "Iteration 20: Loss = 0.417\n",
      "Iteration 21: Loss = 0.401\n",
      "Iteration 22: Loss = 0.385\n",
      "Iteration 23: Loss = 0.370\n",
      "Iteration 24: Loss = 0.355\n",
      "Iteration 25: Loss = 0.341\n",
      "Iteration 26: Loss = 0.327\n",
      "Iteration 27: Loss = 0.314\n",
      "Iteration 28: Loss = 0.302\n",
      "Iteration 29: Loss = 0.290\n",
      "Iteration 30: Loss = 0.279\n",
      "Iteration 31: Loss = 0.267\n",
      "Iteration 32: Loss = 0.257\n",
      "Iteration 33: Loss = 0.247\n",
      "Iteration 34: Loss = 0.237\n",
      "Iteration 35: Loss = 0.228\n",
      "Iteration 36: Loss = 0.219\n",
      "Iteration 37: Loss = 0.210\n",
      "Iteration 38: Loss = 0.202\n",
      "Iteration 39: Loss = 0.194\n",
      "Iteration 40: Loss = 0.186\n",
      "Iteration 41: Loss = 0.179\n",
      "Iteration 42: Loss = 0.172\n",
      "Iteration 43: Loss = 0.165\n",
      "Iteration 44: Loss = 0.158\n",
      "Iteration 45: Loss = 0.152\n",
      "Iteration 46: Loss = 0.146\n",
      "Iteration 47: Loss = 0.140\n",
      "Iteration 48: Loss = 0.135\n",
      "Iteration 49: Loss = 0.129\n",
      "Iteration 50: Loss = 0.124\n",
      "Iteration 51: Loss = 0.119\n",
      "Iteration 52: Loss = 0.115\n",
      "Iteration 53: Loss = 0.110\n",
      "Iteration 54: Loss = 0.106\n",
      "Iteration 55: Loss = 0.101\n",
      "Iteration 56: Loss = 0.097\n",
      "Iteration 57: Loss = 0.094\n",
      "Iteration 58: Loss = 0.090\n",
      "Iteration 59: Loss = 0.086\n",
      "Iteration 60: Loss = 0.083\n",
      "Iteration 61: Loss = 0.080\n",
      "Iteration 62: Loss = 0.076\n",
      "Iteration 63: Loss = 0.073\n",
      "Iteration 64: Loss = 0.071\n",
      "Iteration 65: Loss = 0.068\n",
      "Iteration 66: Loss = 0.065\n",
      "Iteration 67: Loss = 0.062\n",
      "Iteration 68: Loss = 0.060\n",
      "Iteration 69: Loss = 0.058\n",
      "Iteration 70: Loss = 0.055\n",
      "Iteration 71: Loss = 0.053\n",
      "Iteration 72: Loss = 0.051\n",
      "Iteration 73: Loss = 0.049\n",
      "Iteration 74: Loss = 0.047\n",
      "Iteration 75: Loss = 0.045\n",
      "Iteration 76: Loss = 0.043\n",
      "Iteration 77: Loss = 0.042\n",
      "Iteration 78: Loss = 0.040\n",
      "Iteration 79: Loss = 0.038\n",
      "Iteration 80: Loss = 0.037\n",
      "Iteration 81: Loss = 0.035\n",
      "Iteration 82: Loss = 0.034\n",
      "Iteration 83: Loss = 0.033\n",
      "Iteration 84: Loss = 0.031\n",
      "Iteration 85: Loss = 0.030\n",
      "Iteration 86: Loss = 0.029\n",
      "Iteration 87: Loss = 0.028\n",
      "Iteration 88: Loss = 0.027\n",
      "Iteration 89: Loss = 0.026\n",
      "Iteration 90: Loss = 0.025\n",
      "Iteration 91: Loss = 0.024\n",
      "Iteration 92: Loss = 0.023\n",
      "Iteration 93: Loss = 0.022\n",
      "Iteration 94: Loss = 0.021\n",
      "Iteration 95: Loss = 0.020\n",
      "Iteration 96: Loss = 0.019\n",
      "Iteration 97: Loss = 0.019\n",
      "Iteration 98: Loss = 0.018\n",
      "Iteration 99: Loss = 0.017\n",
      "Iteration 100: Loss = 0.016\n",
      "Iteration 101: Loss = 0.016\n",
      "Iteration 102: Loss = 0.015\n",
      "Iteration 103: Loss = 0.015\n",
      "Iteration 104: Loss = 0.014\n",
      "Iteration 105: Loss = 0.013\n",
      "Iteration 106: Loss = 0.013\n",
      "Iteration 107: Loss = 0.012\n",
      "Iteration 108: Loss = 0.012\n",
      "Iteration 109: Loss = 0.011\n",
      "Iteration 110: Loss = 0.011\n",
      "Iteration 111: Loss = 0.011\n",
      "Iteration 112: Loss = 0.010\n",
      "Iteration 113: Loss = 0.010\n",
      "Iteration 114: Loss = 0.009\n",
      "Iteration 115: Loss = 0.009\n",
      "Iteration 116: Loss = 0.009\n",
      "Iteration 117: Loss = 0.008\n",
      "Iteration 118: Loss = 0.008\n",
      "Iteration 119: Loss = 0.008\n",
      "Iteration 120: Loss = 0.007\n",
      "Iteration 121: Loss = 0.007\n",
      "Iteration 122: Loss = 0.007\n",
      "Iteration 123: Loss = 0.006\n",
      "Iteration 124: Loss = 0.006\n",
      "Iteration 125: Loss = 0.006\n",
      "Iteration 126: Loss = 0.006\n",
      "Iteration 127: Loss = 0.006\n",
      "Iteration 128: Loss = 0.005\n",
      "Iteration 129: Loss = 0.005\n",
      "Iteration 130: Loss = 0.005\n",
      "Iteration 131: Loss = 0.005\n",
      "Iteration 132: Loss = 0.005\n",
      "Iteration 133: Loss = 0.004\n",
      "Iteration 134: Loss = 0.004\n",
      "Iteration 135: Loss = 0.004\n",
      "Iteration 136: Loss = 0.004\n",
      "Iteration 137: Loss = 0.004\n",
      "Iteration 138: Loss = 0.004\n",
      "Iteration 139: Loss = 0.003\n",
      "Iteration 140: Loss = 0.003\n",
      "Iteration 141: Loss = 0.003\n",
      "Iteration 142: Loss = 0.003\n",
      "Iteration 143: Loss = 0.003\n",
      "Iteration 144: Loss = 0.003\n",
      "Iteration 145: Loss = 0.003\n",
      "Iteration 146: Loss = 0.003\n",
      "Iteration 147: Loss = 0.002\n",
      "Iteration 148: Loss = 0.002\n",
      "Iteration 149: Loss = 0.002\n",
      "Iteration 150: Loss = 0.002\n",
      "Iteration 151: Loss = 0.002\n",
      "Iteration 152: Loss = 0.002\n",
      "Iteration 153: Loss = 0.002\n",
      "Iteration 154: Loss = 0.002\n",
      "Iteration 155: Loss = 0.002\n",
      "Iteration 156: Loss = 0.002\n",
      "Iteration 157: Loss = 0.002\n",
      "Iteration 158: Loss = 0.002\n",
      "Iteration 159: Loss = 0.002\n",
      "Iteration 160: Loss = 0.001\n",
      "Iteration 161: Loss = 0.001\n",
      "Iteration 162: Loss = 0.001\n",
      "Iteration 163: Loss = 0.001\n",
      "Iteration 164: Loss = 0.001\n",
      "Iteration 165: Loss = 0.001\n",
      "Iteration 166: Loss = 0.001\n",
      "Iteration 167: Loss = 0.001\n",
      "Iteration 168: Loss = 0.001\n",
      "Iteration 169: Loss = 0.001\n",
      "Iteration 170: Loss = 0.001\n",
      "Iteration 171: Loss = 0.001\n",
      "Iteration 172: Loss = 0.001\n",
      "Iteration 173: Loss = 0.001\n",
      "Iteration 174: Loss = 0.001\n",
      "Iteration 175: Loss = 0.001\n",
      "Iteration 176: Loss = 0.001\n",
      "Iteration 177: Loss = 0.001\n",
      "Iteration 178: Loss = 0.001\n",
      "Iteration 179: Loss = 0.001\n",
      "Iteration 180: Loss = 0.001\n",
      "Iteration 181: Loss = 0.001\n",
      "Iteration 182: Loss = 0.001\n",
      "Iteration 183: Loss = 0.001\n",
      "Iteration 184: Loss = 0.001\n",
      "Iteration 185: Loss = 0.001\n",
      "Iteration 186: Loss = 0.001\n",
      "Iteration 187: Loss = 0.000\n",
      "Iteration 188: Loss = 0.000\n",
      "Iteration 189: Loss = 0.000\n",
      "Iteration 190: Loss = 0.000\n",
      "Iteration 191: Loss = 0.000\n",
      "Iteration 192: Loss = 0.000\n",
      "Iteration 193: Loss = 0.000\n",
      "Iteration 194: Loss = 0.000\n",
      "Iteration 195: Loss = 0.000\n",
      "Iteration 196: Loss = 0.000\n",
      "Iteration 197: Loss = 0.000\n",
      "Iteration 198: Loss = 0.000\n",
      "Iteration 199: Loss = 0.000\n",
      "Iteration 200: Loss = 0.000\n",
      "[1. 0. 0. 1.]\n",
      "[[ 0.991 -0.008 -0.004  0.988]]\n"
     ]
    }
   ],
   "source": [
    "num_iterations = 200\n",
    "alpha = 0.01   # learning rate\n",
    "\n",
    "losses = []\n",
    "for i in range(num_iterations):\n",
    "    net_output, all_f, all_h = forward_pass(net_input,all_weights, all_biases)\n",
    "    y_pred = net_output\n",
    "    loss = least_squares_loss(y_pred, y)\n",
    "    losses.append(loss)\n",
    "    print(f\"Iteration {i+1}: Loss = {loss:.3f}\")\n",
    "\n",
    "    all_dl_dweights, all_dl_dbiases = backward_pass(all_weights, all_biases, all_f, all_h, y)\n",
    "\n",
    "    for i, (weights, biases) in enumerate(zip(all_weights, all_biases)):\n",
    "        all_weights[i] = weights - alpha * all_dl_dweights[i]\n",
    "        all_biases[i] = biases - alpha * all_dl_dbiases[i]\n",
    "\n",
    "print(y)\n",
    "print(y_pred)"
   ]
  },
  {
   "cell_type": "markdown",
   "metadata": {},
   "source": [
    "Let's plot the loss over the iterations.  We'll plot the full loss over the iterations, and then zoom in on the loss from iteration 10 onwards."
   ]
  },
  {
   "cell_type": "code",
   "execution_count": 42,
   "metadata": {},
   "outputs": [
    {
     "data": {
      "image/png": "[encoded data removed]",
      "text/plain": [
       "<Figure size 1200x500 with 2 Axes>"
      ]
     },
     "metadata": {},
     "output_type": "display_data"
    }
   ],
   "source": [
    "# plot the losses\n",
    "fig, (ax1, ax2) = plt.subplots(1, 2, figsize=(12, 5))\n",
    "\n",
    "# Full plot\n",
    "ax1.plot(losses)\n",
    "ax1.set_xlabel('Iteration')\n",
    "ax1.set_ylabel('Loss')\n",
    "ax1.set_title('Loss over Iterations')\n",
    "\n",
    "# Plot starting from iteration 10\n",
    "ax2.plot(range(10, len(losses)), losses[10:])\n",
    "ax2.set_xlabel('Iteration')\n",
    "ax2.set_ylabel('Loss')\n",
    "ax2.set_title('Loss from Iteration 10')\n",
    "\n",
    "plt.tight_layout()\n",
    "plt.show()\n",
    "\n",
    "\n"
   ]
  },
  {
   "cell_type": "markdown",
   "metadata": {
    "deletable": false,
    "editable": false
   },
   "source": [
    "<!-- BEGIN QUESTION -->\n",
    "\n",
    "**Question 3:**\n",
    "\n",
    "What do you notice about how the loss progresses over the iterations? Is it a gradual decrease or a sharp decrease? To what do you attribute the rate of\n",
    "decrease in the first few iterations?"
   ]
  },
  {
   "cell_type": "markdown",
   "metadata": {},
   "source": [
    "The loss decreases very sharply in the first few iterations and then gradually levels off. The left plot shows that the loss starts at a very high value and rapidly drops within the first few iterations, reaching a much lower and relatively stable value due to a high learning rate or well-initialized model parameters for early on progress. The right plot, which focuses on iterations after the 10th, shows a more gradual decrease as training continues. "
   ]
  },
  {
   "cell_type": "markdown",
   "metadata": {
    "deletable": false,
    "editable": false
   },
   "source": [
    "<!-- END QUESTION -->\n",
    "\n",
    "## Build and Train an Equivalent Network with PyTorch\n"
   ]
  },
  {
   "cell_type": "markdown",
   "metadata": {},
   "source": [
    "For comparison, we'll now define the network in PyTorch and train it with the\n",
    "same tiny dataset. Hopefully you see some similarities in how the network is\n",
    "defined and trained."
   ]
  },
  {
   "cell_type": "code",
   "execution_count": 43,
   "metadata": {},
   "outputs": [
    {
     "name": "stdout",
     "output_type": "stream",
     "text": [
      "ptMLP(\n",
      "  (layers): Sequential(\n",
      "    (0): Linear(in_features=3, out_features=6, bias=True)\n",
      "    (1): ReLU()\n",
      "    (2): Linear(in_features=6, out_features=6, bias=True)\n",
      "    (3): ReLU()\n",
      "    (4): Linear(in_features=6, out_features=6, bias=True)\n",
      "    (5): ReLU()\n",
      "    (6): Linear(in_features=6, out_features=6, bias=True)\n",
      "    (7): ReLU()\n",
      "    (8): Linear(in_features=6, out_features=6, bias=True)\n",
      "    (9): ReLU()\n",
      "    (10): Linear(in_features=6, out_features=1, bias=True)\n",
      "  )\n",
      ")\n"
     ]
    }
   ],
   "source": [
    "import torch\n",
    "from torch import nn\n",
    "from torch.optim import SGD\n",
    "\n",
    "# Manually seed the Random Number Generator for Reproducibility\n",
    "# You can comment the next line out see the variability\n",
    "torch.manual_seed(99)\n",
    "\n",
    "# Step 1: Define the MLP model\n",
    "class ptMLP(nn.Module):\n",
    "    def __init__(self):\n",
    "        super(ptMLP, self).__init__()\n",
    "        self.layers = nn.Sequential(\n",
    "            nn.Linear(3, 6),\n",
    "            nn.ReLU(),\n",
    "            nn.Linear(6, 6),\n",
    "            nn.ReLU(),\n",
    "            nn.Linear(6, 6),\n",
    "            nn.ReLU(),\n",
    "            nn.Linear(6, 6),\n",
    "            nn.ReLU(),\n",
    "            nn.Linear(6, 6),\n",
    "            nn.ReLU(),\n",
    "            nn.Linear(6, 1)\n",
    "        )\n",
    "\n",
    "    def forward(self, x):\n",
    "        return self.layers(x)\n",
    "\n",
    "model = ptMLP()\n",
    "print(model)"
   ]
  },
  {
   "cell_type": "markdown",
   "metadata": {},
   "source": [
    "Define a loss function and an optimizer."
   ]
  },
  {
   "cell_type": "code",
   "execution_count": 44,
   "metadata": {},
   "outputs": [],
   "source": [
    "# Step 2: Define a loss function and an optimizer\n",
    "criterion = nn.MSELoss(reduction='sum')\n",
    "optimizer = SGD(model.parameters(), lr=0.01)"
   ]
  },
  {
   "cell_type": "markdown",
   "metadata": {},
   "source": [
    "Recreate the tiny dataset."
   ]
  },
  {
   "cell_type": "code",
   "execution_count": 45,
   "metadata": {},
   "outputs": [],
   "source": [
    "#| code-fold: false\n",
    "# Step 3: Create a tiny dataset\n",
    "xs = [\n",
    "    [2.0, 3.0, -1.0],\n",
    "    [3.0, -1.0, 0.5],\n",
    "    [0.5, 1.0, 1.0],\n",
    "    [1.0, 1.0, -1.0]\n",
    "]\n",
    "\n",
    "# we had to transpose ys for torch.tensor\n",
    "ys_transpose = [[1.0], \n",
    "      [0.0], \n",
    "      [0.0], \n",
    "      [1.0]]\n",
    "\n",
    "inputs = torch.tensor(xs)\n",
    "outputs = torch.tensor(ys_transpose)"
   ]
  },
  {
   "cell_type": "markdown",
   "metadata": {},
   "source": [
    "Define and run the training loop."
   ]
  },
  {
   "cell_type": "code",
   "execution_count": 46,
   "metadata": {},
   "outputs": [
    {
     "name": "stdout",
     "output_type": "stream",
     "text": [
      "Final Loss: 0.004101184196770191\n"
     ]
    }
   ],
   "source": [
    "# Step 4: Write the training loop\n",
    "losses = []\n",
    "niters = 300\n",
    "\n",
    "for epoch in range(niters):\n",
    "\n",
    "    # Training Step 1: Forward pass\n",
    "    predictions = model(inputs)\n",
    "\n",
    "    # Training Step 2: Calculate the loss\n",
    "    loss = criterion(predictions, outputs)\n",
    "\n",
    "    # Training Step 3: Zero the gradient and run backward pass\n",
    "    optimizer.zero_grad()\n",
    "    loss.backward()\n",
    "\n",
    "    # Training Step 4: Update parameters\n",
    "    optimizer.step()\n",
    "\n",
    "    losses.append(loss.item())\n",
    "    # print(f'Epoch {epoch+1}, Loss: {loss.item()}')\n",
    "\n",
    "print(f'Final Loss: {loss.item()}')"
   ]
  },
  {
   "cell_type": "markdown",
   "metadata": {},
   "source": [
    "Plot the loss over the iterations."
   ]
  },
  {
   "cell_type": "code",
   "execution_count": 47,
   "metadata": {},
   "outputs": [
    {
     "data": {
      "image/png": "[encoded data removed]",
      "text/plain": [
       "<Figure size 640x480 with 1 Axes>"
      ]
     },
     "metadata": {},
     "output_type": "display_data"
    }
   ],
   "source": [
    "plt.plot(losses)\n",
    "plt.ylabel(\"Loss\")\n",
    "plt.xlabel(\"Iterations\")\n",
    "plt.title(\"Loss Per Iteration\")\n",
    "plt.show()"
   ]
  },
  {
   "cell_type": "markdown",
   "metadata": {},
   "source": [
    "Look at the predictions and the true values."
   ]
  },
  {
   "cell_type": "code",
   "execution_count": 48,
   "metadata": {},
   "outputs": [
    {
     "data": {
      "text/plain": [
       "[(tensor([1.]), 1.0349581241607666),\n",
       " (tensor([0.]), 0.012943267822265625),\n",
       " (tensor([0.]), -0.0032622218132019043),\n",
       " (tensor([1.]), 0.9480293989181519)]"
      ]
     },
     "execution_count": 48,
     "metadata": {},
     "output_type": "execute_result"
    }
   ],
   "source": [
    "list(zip(outputs, [y.item() for y in predictions]))"
   ]
  },
  {
   "cell_type": "markdown",
   "metadata": {
    "deletable": false,
    "editable": false
   },
   "source": [
    "<!-- BEGIN QUESTION -->\n",
    "\n",
    "**Question 4:**\n",
    "\n",
    "Compare the loss curves and number of iterations between the PyTorch implemenation  and the manual implementation.\n",
    "\n",
    "What differences do you see?\n",
    "\n",
    "To what do you attribute the differences?"
   ]
  },
  {
   "cell_type": "markdown",
   "metadata": {},
   "source": [
    "The PyTorch implementation exhibits a very sharp decrease in loss in the first few iterations, stabilizing quickly. Which might due to advanced optimizer or simpler method like standard gradient descent. And the manual implementation has a more gradual decline in loss, with a smoother progression."
   ]
  },
  {
   "cell_type": "markdown",
   "metadata": {
    "deletable": false,
    "editable": false
   },
   "source": [
    "---\n",
    "\n",
    "<div style=\"text-align: center;\">\n",
    "<b>The End</b>\n",
    "</div>\n",
    "\n",
    "---\n"
   ]
  }
 ],
 "metadata": {
  "colab": {
   "include_colab_link": true,
   "provenance": []
  },
  "kernelspec": {
   "display_name": "Python 3",
   "language": "python",
   "name": "python3"
  },
  "language_info": {
   "codemirror_mode": {
    "name": "ipython",
    "version": 3
   },
   "file_extension": ".py",
   "mimetype": "text/x-python",
   "name": "python",
   "nbconvert_exporter": "python",
   "pygments_lexer": "ipython3",
   "version": "3.12.7"
  },
  "otter": {
   "OK_FORMAT": true,
   "assignment_name": "hw4_backpropagation",
   "tests": {
    "q1": {
     "name": "q1",
     "points": 4,
     "suites": [
      {
       "cases": [
        {
         "code": ">>> assert np.isclose(net_output[0, 0], 1.907, atol=0.001), 'Incorrect output'\n",
         "hidden": false,
         "locked": false
        },
        {
         "code": ">>> K = 5\n>>> D = 6\n>>> D_i = 3\n>>> D_o = 1\n>>> np.random.seed(42)\n>>> all_weights, all_biases = create_network(K, D, D_i, D_o)\n>>> net_input = np.ones((D_i, 4)) * 1.9\n>>> net_output, all_f, all_h = forward_pass(net_input, all_weights, all_biases)\n>>> assert np.allclose(net_output, np.array([[-2.226, -2.226, -2.226, -2.226]]), atol=0.001), 'Incorrect output'\n",
         "hidden": false,
         "locked": false
        }
       ],
       "scored": true,
       "setup": "",
       "teardown": "",
       "type": "doctest"
      }
     ]
    },
    "q2": {
     "name": "q2",
     "points": 5,
     "suites": [
      {
       "cases": [
        {
         "code": ">>> assert np.allclose(all_dl_dbiases_fd[layer], all_dl_dbiases[layer], rtol=1e-05, atol=1e-08, equal_nan=False), 'Derivatives do not match'\n",
         "hidden": false,
         "locked": false
        },
        {
         "code": ">>> assert np.allclose(all_dl_dweights_fd[layer], all_dl_dweights[layer], rtol=1e-05, atol=1e-08, equal_nan=False), 'Derivatives do not match'\n",
         "hidden": false,
         "locked": false
        }
       ],
       "scored": true,
       "setup": "",
       "teardown": "",
       "type": "doctest"
      }
     ]
    }
   }
  }
 },
 "nbformat": 4,
 "nbformat_minor": 0
}
